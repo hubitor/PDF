{
 "cells": [
  {
   "cell_type": "code",
   "execution_count": 19,
   "metadata": {
    "collapsed": true
   },
   "outputs": [],
   "source": [
    "import PyPDF2"
   ]
  },
  {
   "cell_type": "code",
   "execution_count": 20,
   "metadata": {},
   "outputs": [
    {
     "name": "stdout",
     "output_type": "stream",
     "text": [
      "8\n"
     ]
    }
   ],
   "source": [
    "pdfFileObj = open('C:\\\\Users\\\\MikeLesKi\\\\Desktop\\\\Lineup.pdf', 'rb')\n",
    "pdfReader = PyPDF2.PdfFileReader(pdfFileObj)\n",
    "pdfReader.numPages\n",
    "print(pdfReader.numPages)"
   ]
  },
  {
   "cell_type": "code",
   "execution_count": 21,
   "metadata": {},
   "outputs": [
    {
     "data": {
      "text/plain": [
       "''"
      ]
     },
     "execution_count": 21,
     "metadata": {},
     "output_type": "execute_result"
    }
   ],
   "source": [
    "pageObj = pdfReader.getPage(0)\n",
    "pageObj.extractText()\n",
    "#print(pageObj.extractText())"
   ]
  },
  {
   "cell_type": "code",
   "execution_count": 22,
   "metadata": {
    "collapsed": true
   },
   "outputs": [],
   "source": [
    "output = pageObj.extractText()"
   ]
  },
  {
   "cell_type": "code",
   "execution_count": 23,
   "metadata": {},
   "outputs": [
    {
     "name": "stdout",
     "output_type": "stream",
     "text": [
      "\n"
     ]
    }
   ],
   "source": [
    "print(output)"
   ]
  },
  {
   "cell_type": "code",
   "execution_count": 24,
   "metadata": {
    "collapsed": true
   },
   "outputs": [],
   "source": [
    "# # get_doc_info.py\n",
    " \n",
    "# from PyPDF2 import PdfFileReader\n",
    " \n",
    " \n",
    "# def get_info(path):\n",
    "#     with open(path, 'rb') as f:\n",
    "#         pdf = PdfFileReader(f)\n",
    "#         info = pdf.getDocumentInfo()\n",
    "#         number_of_pages = pdf.getNumPages()\n",
    " \n",
    "#     print(info)\n",
    " \n",
    "#     author = info.author\n",
    "#     creator = info.creator\n",
    "#     producer = info.producer\n",
    "#     subject = info.subject\n",
    "#     title = info.title\n",
    " \n",
    "# if __name__ == '__main__':\n",
    "#     path = 'C:\\\\Users\\\\MikeLesKi\\\\Desktop\\\\Lineup.pdf'\n",
    "#     get_info(path)"
   ]
  },
  {
   "cell_type": "code",
   "execution_count": 30,
   "metadata": {},
   "outputs": [
    {
     "name": "stdout",
     "output_type": "stream",
     "text": [
      "{'/Type': '/Page', '/Resources': {'/ExtGState': {'/G0': IndirectObject(13, 0)}, '/Font': {'/F0': IndirectObject(14, 0), '/F1': IndirectObject(24, 0)}}, '/MediaBox': [0, 0, 612, 792], '/Contents': IndirectObject(7, 0), '/StructParents': 5, '/Parent': IndirectObject(11, 0)}\n",
      "Page type: <class 'PyPDF2.pdf.PageObject'>\n",
      "\n"
     ]
    }
   ],
   "source": [
    "# extracting_text.py\n",
    " \n",
    "from PyPDF2 import PdfFileReader\n",
    " \n",
    " \n",
    "def text_extractor(path):\n",
    "    with open(path, 'rb') as f:\n",
    "        pdf = PdfFileReader(f)\n",
    " \n",
    "        # get the first page\n",
    "        page = pdf.getPage(5)\n",
    "        print(page)\n",
    "        print('Page type: {}'.format(str(type(page))))\n",
    " \n",
    "        text = page.extractText()\n",
    "        print(text)\n",
    " \n",
    " \n",
    "if __name__ == '__main__':\n",
    "    path = 'C:\\\\Users\\\\MikeLesKi\\\\Desktop\\\\Lineup.pdf'\n",
    "    text_extractor(path)"
   ]
  },
  {
   "cell_type": "code",
   "execution_count": null,
   "metadata": {
    "collapsed": true
   },
   "outputs": [],
   "source": []
  },
  {
   "cell_type": "code",
   "execution_count": 31,
   "metadata": {},
   "outputs": [
    {
     "name": "stdout",
     "output_type": "stream",
     "text": [
      "1/20/20191/8Preferred HD169669181681231731215569192111961913063027277218968927077022072065633033185585185685109110111221721102602106100600A Wealth of EntertainmentA Wealth of Entertainment HDA&EA&E HDAMCAMC HDAXS tvAXS tv HDAccess Montgomery TV19Access Montgomery TV21AccuWeather DC MD VAAccuWeather DC MD VA HDAnimal PlanetAnimal Planet HDAspireAspire HDBBC AmericaBBC America HDBETBET HDBET HerBET Her HDBeauty iQ HDBig Ten 1Big Ten 2Big Ten NetworkBig Ten Network HDBravoBravo HDC-SPANC-SPAN 2C-SPAN 3CMTCMT HDCNBCCNBC HD+CNBC WorldCNNCNN HD\f",
      "1/20/20192/82577571906903029379317212062025078026025178169619670570735737457428519865929529245535532327321916911646641176171186188358384Cartoon NetworkCartoon Network HDComedy CentralComedy Central HDCounty Cable Montgomery [CCM]DaystarDaystar HDDeals TVDiscovery ChannelDiscovery Channel HDDisney ChannelDisney Channel HDDisney JuniorDisney XDDisney XD HDE! Entertainment Network HDE! Entertainment TelevisionESPNESPN HDESPN UESPN U HDESPN2ESPN2 HDEWTNEl ReyEnrich HDEstrella TVEstrella TV HDFETVFXFX HDFX Movie ChannelFXM HDFXXFXX HDFood NetworkFood Network HDFox Business NetworkFox Business Network HDFox NewsFox News HDFox Sports 1Fox Sports 1 HDFox Sports 2\f",
      "1/20/20193/858419969965874616221656652791011516511542407402397391286282347342867861236231527981866411406401593207951828182718261815181418451833181718481834Fox Sports 2 HDFreeformFreeform HDGem Shopping Network HDHD Net MoviesHGTVHGTVHGTV HDHITnHLNHSNHSN HDHSN2Hallmark ChannelHallmark Channel HDHallmark Movies & MysteriesHallmark Movies & Mysteries HDHistoryHistory HDIFCIFC HDINSPINSP HDInvestigation DiscoveryInvestigation Discovery HDJewelry TelevisionJewish Broadcasting Service HDJustice Central.TVLMN HDLifetimeLifetime HDLiquidation ChannelLonghorn Network [National]Loveworld USA HDMC 70sMC 80sMC 90sMC Adult AlternativeMC AlternativeMC BluesMC Classic CountryMC Classic RockMC Classical MasterpiecesMC Contemporary Christian\f",
      "1/20/20194/81832180218471810180618041800180318441823184918191813183718361821182018351808180918051811181218161839184618431818182918401842184118071831182418381825103603210218710211711MC Country HitsMC Dance/EDMMC Easy ListeningMC GospelMC Hip-Hop ClassicsMC Hip-Hop and R&BMC Hit ListMC IndieMC JazzMC Kidz Only!MC Light ClassicalMC Love SongsMC MetalMC MexicanaMC Musica UrbanaMC Party FavoritesMC Pop HitsMC Pop LatinoMC R&B ClassicsMC R&B SoulMC RapMC ReggaeMC RockMC Rock HitsMC RomancesMC Singers & SwingMC Smooth JazzMC Soft RockMC Solid Gold OldiesMC Sounds of the SeasonMC SoundscapesMC Stage & ScreenMC Throwback JamzMC Today's CountryMC Toddler TunesMC TropicalesMC Y2KMSNBCMSNBC HDMTVMTV ClassicMTV HDMTV2MTV2 HD\f",
      "1/20/20195/8178771526795795772291035361663118011830182278578905908858812162111561511361325675625475425275211661614464419469454554150650153MallMid-Atlantic Sports NetworkMid-Atlantic Sports NetworkMid-Atlantic Sports Network 2 [MASN2]Mid-Atlantic Sports Network 2 [MASN2] HDMid-Atlantic Sports Network HDMnetMontgomery College [MCTV]Montgomery County Public School 1Montgomery County Public School 2Montgomery Municipal Cable TV [MMC TV]MotorTrend HDMusic Choice MaxMusic Choice Pop & CountryMusic Choice Teen BeatsNBC Sports Washington +NBC Sports Washington + HDNBCSNNBCSN HDNFL NetworkNFL Network HDNational GeographicNational Geographic HDNewsmax TVNewsmax TV HDNewsyNewsy HDNick Jr.Nick Jr. HDNick ToonsNick Toons HDNickelodeonNickelodeon HDOne America News NetworkOne America News Network HDOxygenOxygen HDPOPPOP HDParamount NetworkParamount Network HDQVCQVC HDQVC2\f",
      "1/20/20196/8692111226222811806802955255213963951551179241741271771282557559259211261225288297797292170670230238738550502637634018217717REELZ HDRockville GovernmentScienceScience HDSino TV NetworkSyfySyfy HDTBN - TRINITYTBSTBS HDTLCTLC HDTNTTNT HDTODAYTV LandTV Land HDTV OneTV One HDTakoma Park City TVTeenNickTeenNick HDTennis ChannelTennis Channel HDThe BlazeThe Blaze HDThe City of College Park Municipal ChannelThe Hillsong ChannelThe SonLife Broadcasting NetworkThe SonLife Broadcasting Network HDThe WordTravel ChannelTravel Channel HDTurner Classic MoviesUPUP HDUSA HDUSA NetworkUniversal KidsUniversal Kids HDUniversity of MD - College Park [UMTV]University of MD - University College [UMUC]VH1VH1 HD\f",
      "1/20/20197/812769765061546948235033153114964947226526474459485145144646856832532490335338508750746246747625021751747848022522VICELANDVICELAND HDWDCA FOX 5 PlusWDCA FOX 5 Plus HDWDCA Heroes & IconsWDCA Movies!WDCW Antenna TVWDCW CWWDCW CW HDWDVM TVWDVM TV HDWE tvWE tv HDWETA KidsWETA PBSWETA PBS HDWETA UKWFDC Bounce TVWFDC Grit TVWFDC UnivisionWFDC Univision HDWFDC getTVWGNAWGNA HDWHUT PBSWHUT PBS HDWHUT PBS KidsWJAL SonLifeWJAL SonLife HDWJLA 24/7 NewsWJLA 24/7 News HDWJLA ABCWJLA ABC HDWJLA Charge TVWJLA CometTVWJLA TBD TVWMDE Soul of the SouthWMDE Soul of the South HDWMDO UniMásWMDO UniMás HDWMPT MPT 2/Create HDWMPT NHK WorldWMPT PBSWMPT PBS HD\f",
      "1/20/20198/8481158492135134912746045044845505489950946149320520177662596157657216716129629183683WMPT PBS KidsWOWWPXW ION LifeWPXW ION TVWPXW ION TV HDWPXW quboWQAW Azteca DCWRC Cozi TVWRC NBCWRC NBC HDWTTG BuzzrWTTG FOXWTTG FOX HDWTTG MeTVWUSA CBSWUSA CBS HDWUSA Justice NetworkWZDC TeleXitosWZDC TelemundoWZDC Telemundo HDXtraZ Living HDbeIN Sports HDevine LIVEevine LIVE HDfusefuse HDfyifyi HDtruTVtruTV HD\f",
      "\n"
     ]
    }
   ],
   "source": [
    "import io\n",
    " \n",
    "from pdfminer.converter import TextConverter\n",
    "from pdfminer.pdfinterp import PDFPageInterpreter\n",
    "from pdfminer.pdfinterp import PDFResourceManager\n",
    "from pdfminer.pdfpage import PDFPage\n",
    " \n",
    "def extract_text_from_pdf(pdf_path):\n",
    "    resource_manager = PDFResourceManager()\n",
    "    fake_file_handle = io.StringIO()\n",
    "    converter = TextConverter(resource_manager, fake_file_handle)\n",
    "    page_interpreter = PDFPageInterpreter(resource_manager, converter)\n",
    " \n",
    "    with open(pdf_path, 'rb') as fh:\n",
    "        for page in PDFPage.get_pages(fh, \n",
    "                                      caching=True,\n",
    "                                      check_extractable=True):\n",
    "            page_interpreter.process_page(page)\n",
    " \n",
    "        text = fake_file_handle.getvalue()\n",
    " \n",
    "    # close open handles\n",
    "    converter.close()\n",
    "    fake_file_handle.close()\n",
    " \n",
    "    if text:\n",
    "        return text\n",
    " \n",
    "if __name__ == '__main__':\n",
    "    print(extract_text_from_pdf('C:\\\\Users\\\\MikeLesKi\\\\Desktop\\\\Lineup.pdf'))"
   ]
  },
  {
   "cell_type": "code",
   "execution_count": 34,
   "metadata": {},
   "outputs": [
    {
     "name": "stdout",
     "output_type": "stream",
     "text": [
      "1/20/20191/8Preferred HD169669181681231731215569192111961913063027277218968927077022072065633033185585185685109110111221721102602106100600A Wealth of EntertainmentA Wealth of Entertainment HDA&EA&E HDAMCAMC HDAXS tvAXS tv HDAccess Montgomery TV19Access Montgomery TV21AccuWeather DC MD VAAccuWeather DC MD VA HDAnimal PlanetAnimal Planet HDAspireAspire HDBBC AmericaBBC America HDBETBET HDBET HerBET Her HDBeauty iQ HDBig Ten 1Big Ten 2Big Ten NetworkBig Ten Network HDBravoBravo HDC-SPANC-SPAN 2C-SPAN 3CMTCMT HDCNBCCNBC HD+CNBC WorldCNNCNN HD\f",
      "\n",
      "\n",
      "1/20/20192/82577571906903029379317212062025078026025178169619670570735737457428519865929529245535532327321916911646641176171186188358384Cartoon NetworkCartoon Network HDComedy CentralComedy Central HDCounty Cable Montgomery [CCM]DaystarDaystar HDDeals TVDiscovery ChannelDiscovery Channel HDDisney ChannelDisney Channel HDDisney JuniorDisney XDDisney XD HDE! Entertainment Network HDE! Entertainment TelevisionESPNESPN HDESPN UESPN U HDESPN2ESPN2 HDEWTNEl ReyEnrich HDEstrella TVEstrella TV HDFETVFXFX HDFX Movie ChannelFXM HDFXXFXX HDFood NetworkFood Network HDFox Business NetworkFox Business Network HDFox NewsFox News HDFox Sports 1Fox Sports 1 HDFox Sports 2\f",
      "\n",
      "\n",
      "1/20/20193/858419969965874616221656652791011516511542407402397391286282347342867861236231527981866411406401593207951828182718261815181418451833181718481834Fox Sports 2 HDFreeformFreeform HDGem Shopping Network HDHD Net MoviesHGTVHGTVHGTV HDHITnHLNHSNHSN HDHSN2Hallmark ChannelHallmark Channel HDHallmark Movies & MysteriesHallmark Movies & Mysteries HDHistoryHistory HDIFCIFC HDINSPINSP HDInvestigation DiscoveryInvestigation Discovery HDJewelry TelevisionJewish Broadcasting Service HDJustice Central.TVLMN HDLifetimeLifetime HDLiquidation ChannelLonghorn Network [National]Loveworld USA HDMC 70sMC 80sMC 90sMC Adult AlternativeMC AlternativeMC BluesMC Classic CountryMC Classic RockMC Classical MasterpiecesMC Contemporary Christian\f",
      "\n",
      "\n",
      "1/20/20194/81832180218471810180618041800180318441823184918191813183718361821182018351808180918051811181218161839184618431818182918401842184118071831182418381825103603210218710211711MC Country HitsMC Dance/EDMMC Easy ListeningMC GospelMC Hip-Hop ClassicsMC Hip-Hop and R&BMC Hit ListMC IndieMC JazzMC Kidz Only!MC Light ClassicalMC Love SongsMC MetalMC MexicanaMC Musica UrbanaMC Party FavoritesMC Pop HitsMC Pop LatinoMC R&B ClassicsMC R&B SoulMC RapMC ReggaeMC RockMC Rock HitsMC RomancesMC Singers & SwingMC Smooth JazzMC Soft RockMC Solid Gold OldiesMC Sounds of the SeasonMC SoundscapesMC Stage & ScreenMC Throwback JamzMC Today's CountryMC Toddler TunesMC TropicalesMC Y2KMSNBCMSNBC HDMTVMTV ClassicMTV HDMTV2MTV2 HD\f",
      "\n",
      "\n",
      "1/20/20195/8178771526795795772291035361663118011830182278578905908858812162111561511361325675625475425275211661614464419469454554150650153MallMid-Atlantic Sports NetworkMid-Atlantic Sports NetworkMid-Atlantic Sports Network 2 [MASN2]Mid-Atlantic Sports Network 2 [MASN2] HDMid-Atlantic Sports Network HDMnetMontgomery College [MCTV]Montgomery County Public School 1Montgomery County Public School 2Montgomery Municipal Cable TV [MMC TV]MotorTrend HDMusic Choice MaxMusic Choice Pop & CountryMusic Choice Teen BeatsNBC Sports Washington +NBC Sports Washington + HDNBCSNNBCSN HDNFL NetworkNFL Network HDNational GeographicNational Geographic HDNewsmax TVNewsmax TV HDNewsyNewsy HDNick Jr.Nick Jr. HDNick ToonsNick Toons HDNickelodeonNickelodeon HDOne America News NetworkOne America News Network HDOxygenOxygen HDPOPPOP HDParamount NetworkParamount Network HDQVCQVC HDQVC2\f",
      "\n",
      "\n",
      "1/20/20196/8692111226222811806802955255213963951551179241741271771282557559259211261225288297797292170670230238738550502637634018217717REELZ HDRockville GovernmentScienceScience HDSino TV NetworkSyfySyfy HDTBN - TRINITYTBSTBS HDTLCTLC HDTNTTNT HDTODAYTV LandTV Land HDTV OneTV One HDTakoma Park City TVTeenNickTeenNick HDTennis ChannelTennis Channel HDThe BlazeThe Blaze HDThe City of College Park Municipal ChannelThe Hillsong ChannelThe SonLife Broadcasting NetworkThe SonLife Broadcasting Network HDThe WordTravel ChannelTravel Channel HDTurner Classic MoviesUPUP HDUSA HDUSA NetworkUniversal KidsUniversal Kids HDUniversity of MD - College Park [UMTV]University of MD - University College [UMUC]VH1VH1 HD\f",
      "\n",
      "\n",
      "1/20/20197/812769765061546948235033153114964947226526474459485145144646856832532490335338508750746246747625021751747848022522VICELANDVICELAND HDWDCA FOX 5 PlusWDCA FOX 5 Plus HDWDCA Heroes & IconsWDCA Movies!WDCW Antenna TVWDCW CWWDCW CW HDWDVM TVWDVM TV HDWE tvWE tv HDWETA KidsWETA PBSWETA PBS HDWETA UKWFDC Bounce TVWFDC Grit TVWFDC UnivisionWFDC Univision HDWFDC getTVWGNAWGNA HDWHUT PBSWHUT PBS HDWHUT PBS KidsWJAL SonLifeWJAL SonLife HDWJLA 24/7 NewsWJLA 24/7 News HDWJLA ABCWJLA ABC HDWJLA Charge TVWJLA CometTVWJLA TBD TVWMDE Soul of the SouthWMDE Soul of the South HDWMDO UniMásWMDO UniMás HDWMPT MPT 2/Create HDWMPT NHK WorldWMPT PBSWMPT PBS HD\f",
      "\n",
      "\n",
      "1/20/20198/8481158492135134912746045044845505489950946149320520177662596157657216716129629183683WMPT PBS KidsWOWWPXW ION LifeWPXW ION TVWPXW ION TV HDWPXW quboWQAW Azteca DCWRC Cozi TVWRC NBCWRC NBC HDWTTG BuzzrWTTG FOXWTTG FOX HDWTTG MeTVWUSA CBSWUSA CBS HDWUSA Justice NetworkWZDC TeleXitosWZDC TelemundoWZDC Telemundo HDXtraZ Living HDbeIN Sports HDevine LIVEevine LIVE HDfusefuse HDfyifyi HDtruTVtruTV HD\f",
      "\n",
      "\n",
      "None\n"
     ]
    }
   ],
   "source": [
    "# miner_text_generator.py\n",
    " \n",
    "import io\n",
    " \n",
    "from pdfminer.converter import TextConverter\n",
    "from pdfminer.pdfinterp import PDFPageInterpreter\n",
    "from pdfminer.pdfinterp import PDFResourceManager\n",
    "from pdfminer.pdfpage import PDFPage\n",
    " \n",
    "def extract_text_by_page(pdf_path):\n",
    "    with open(pdf_path, 'rb') as fh:\n",
    "        for page in PDFPage.get_pages(fh, \n",
    "                                      caching=True,\n",
    "                                      check_extractable=True):\n",
    "            resource_manager = PDFResourceManager()\n",
    "            fake_file_handle = io.StringIO()\n",
    "            converter = TextConverter(resource_manager, fake_file_handle)\n",
    "            page_interpreter = PDFPageInterpreter(resource_manager, converter)\n",
    "            page_interpreter.process_page(page)\n",
    " \n",
    "            text = fake_file_handle.getvalue()\n",
    "            yield text\n",
    " \n",
    "            # close open handles\n",
    "            converter.close()\n",
    "            fake_file_handle.close()\n",
    " \n",
    "def extract_text(pdf_path):\n",
    "    for page in extract_text_by_page(pdf_path):\n",
    "        print(page)\n",
    "        print()\n",
    " \n",
    "if __name__ == '__main__':\n",
    "    print(extract_text('C:\\\\Users\\\\MikeLesKi\\\\Desktop\\\\Lineup.pdf'))"
   ]
  },
  {
   "cell_type": "code",
   "execution_count": 38,
   "metadata": {},
   "outputs": [
    {
     "name": "stdout",
     "output_type": "stream",
     "text": [
      "1/20/20191/8Preferred HD169669181681231731215569192111961913063027277218968927077022072065633033185585185685109110111221721102602106100600A Wealth of EntertainmentA Wealth of Entertainment HDA&EA&E HDAMCAMC HDAXS tvAXS tv HDAccess Montgomery TV19Access Montgomery TV21AccuWeather DC MD VAAccuWeather DC MD VA HDAnimal PlanetAnimal Planet HDAspireAspire HDBBC AmericaBBC America HDBETBET HDBET HerBET Her HDBeauty iQ HDBig Ten 1Big Ten 2Big Ten NetworkBig Ten Network HDBravoBravo HDC-SPANC-SPAN 2C-SPAN 3CMTCMT HDCNBCCNBC HD+CNBC WorldCNNCNN HD\f",
      "\n",
      "\n",
      "1/20/20192/82577571906903029379317212062025078026025178169619670570735737457428519865929529245535532327321916911646641176171186188358384Cartoon NetworkCartoon Network HDComedy CentralComedy Central HDCounty Cable Montgomery [CCM]DaystarDaystar HDDeals TVDiscovery ChannelDiscovery Channel HDDisney ChannelDisney Channel HDDisney JuniorDisney XDDisney XD HDE! Entertainment Network HDE! Entertainment TelevisionESPNESPN HDESPN UESPN U HDESPN2ESPN2 HDEWTNEl ReyEnrich HDEstrella TVEstrella TV HDFETVFXFX HDFX Movie ChannelFXM HDFXXFXX HDFood NetworkFood Network HDFox Business NetworkFox Business Network HDFox NewsFox News HDFox Sports 1Fox Sports 1 HDFox Sports 2\f",
      "\n",
      "\n",
      "1/20/20193/858419969965874616221656652791011516511542407402397391286282347342867861236231527981866411406401593207951828182718261815181418451833181718481834Fox Sports 2 HDFreeformFreeform HDGem Shopping Network HDHD Net MoviesHGTVHGTVHGTV HDHITnHLNHSNHSN HDHSN2Hallmark ChannelHallmark Channel HDHallmark Movies & MysteriesHallmark Movies & Mysteries HDHistoryHistory HDIFCIFC HDINSPINSP HDInvestigation DiscoveryInvestigation Discovery HDJewelry TelevisionJewish Broadcasting Service HDJustice Central.TVLMN HDLifetimeLifetime HDLiquidation ChannelLonghorn Network [National]Loveworld USA HDMC 70sMC 80sMC 90sMC Adult AlternativeMC AlternativeMC BluesMC Classic CountryMC Classic RockMC Classical MasterpiecesMC Contemporary Christian\f",
      "\n",
      "\n",
      "1/20/20194/81832180218471810180618041800180318441823184918191813183718361821182018351808180918051811181218161839184618431818182918401842184118071831182418381825103603210218710211711MC Country HitsMC Dance/EDMMC Easy ListeningMC GospelMC Hip-Hop ClassicsMC Hip-Hop and R&BMC Hit ListMC IndieMC JazzMC Kidz Only!MC Light ClassicalMC Love SongsMC MetalMC MexicanaMC Musica UrbanaMC Party FavoritesMC Pop HitsMC Pop LatinoMC R&B ClassicsMC R&B SoulMC RapMC ReggaeMC RockMC Rock HitsMC RomancesMC Singers & SwingMC Smooth JazzMC Soft RockMC Solid Gold OldiesMC Sounds of the SeasonMC SoundscapesMC Stage & ScreenMC Throwback JamzMC Today's CountryMC Toddler TunesMC TropicalesMC Y2KMSNBCMSNBC HDMTVMTV ClassicMTV HDMTV2MTV2 HD\f",
      "\n",
      "\n",
      "1/20/20195/8178771526795795772291035361663118011830182278578905908858812162111561511361325675625475425275211661614464419469454554150650153MallMid-Atlantic Sports NetworkMid-Atlantic Sports NetworkMid-Atlantic Sports Network 2 [MASN2]Mid-Atlantic Sports Network 2 [MASN2] HDMid-Atlantic Sports Network HDMnetMontgomery College [MCTV]Montgomery County Public School 1Montgomery County Public School 2Montgomery Municipal Cable TV [MMC TV]MotorTrend HDMusic Choice MaxMusic Choice Pop & CountryMusic Choice Teen BeatsNBC Sports Washington +NBC Sports Washington + HDNBCSNNBCSN HDNFL NetworkNFL Network HDNational GeographicNational Geographic HDNewsmax TVNewsmax TV HDNewsyNewsy HDNick Jr.Nick Jr. HDNick ToonsNick Toons HDNickelodeonNickelodeon HDOne America News NetworkOne America News Network HDOxygenOxygen HDPOPPOP HDParamount NetworkParamount Network HDQVCQVC HDQVC2\f",
      "\n",
      "\n",
      "1/20/20196/8692111226222811806802955255213963951551179241741271771282557559259211261225288297797292170670230238738550502637634018217717REELZ HDRockville GovernmentScienceScience HDSino TV NetworkSyfySyfy HDTBN - TRINITYTBSTBS HDTLCTLC HDTNTTNT HDTODAYTV LandTV Land HDTV OneTV One HDTakoma Park City TVTeenNickTeenNick HDTennis ChannelTennis Channel HDThe BlazeThe Blaze HDThe City of College Park Municipal ChannelThe Hillsong ChannelThe SonLife Broadcasting NetworkThe SonLife Broadcasting Network HDThe WordTravel ChannelTravel Channel HDTurner Classic MoviesUPUP HDUSA HDUSA NetworkUniversal KidsUniversal Kids HDUniversity of MD - College Park [UMTV]University of MD - University College [UMUC]VH1VH1 HD\f",
      "\n",
      "\n",
      "1/20/20197/812769765061546948235033153114964947226526474459485145144646856832532490335338508750746246747625021751747848022522VICELANDVICELAND HDWDCA FOX 5 PlusWDCA FOX 5 Plus HDWDCA Heroes & IconsWDCA Movies!WDCW Antenna TVWDCW CWWDCW CW HDWDVM TVWDVM TV HDWE tvWE tv HDWETA KidsWETA PBSWETA PBS HDWETA UKWFDC Bounce TVWFDC Grit TVWFDC UnivisionWFDC Univision HDWFDC getTVWGNAWGNA HDWHUT PBSWHUT PBS HDWHUT PBS KidsWJAL SonLifeWJAL SonLife HDWJLA 24/7 NewsWJLA 24/7 News HDWJLA ABCWJLA ABC HDWJLA Charge TVWJLA CometTVWJLA TBD TVWMDE Soul of the SouthWMDE Soul of the South HDWMDO UniMásWMDO UniMás HDWMPT MPT 2/Create HDWMPT NHK WorldWMPT PBSWMPT PBS HD\f",
      "\n",
      "\n",
      "1/20/20198/8481158492135134912746045044845505489950946149320520177662596157657216716129629183683WMPT PBS KidsWOWWPXW ION LifeWPXW ION TVWPXW ION TV HDWPXW quboWQAW Azteca DCWRC Cozi TVWRC NBCWRC NBC HDWTTG BuzzrWTTG FOXWTTG FOX HDWTTG MeTVWUSA CBSWUSA CBS HDWUSA Justice NetworkWZDC TeleXitosWZDC TelemundoWZDC Telemundo HDXtraZ Living HDbeIN Sports HDevine LIVEevine LIVE HDfusefuse HDfyifyi HDtruTVtruTV HD\f",
      "\n",
      "\n",
      "None\n"
     ]
    }
   ],
   "source": [
    "# miner_text_generator.py\n",
    " \n",
    "import io\n",
    " \n",
    "from pdfminer.converter import TextConverter\n",
    "from pdfminer.pdfinterp import PDFPageInterpreter\n",
    "from pdfminer.pdfinterp import PDFResourceManager\n",
    "from pdfminer.pdfpage import PDFPage\n",
    " \n",
    "def extract_text_by_page(pdf_path):\n",
    "    with open(pdf_path, 'rb') as fh:\n",
    "        for page in PDFPage.get_pages(fh, \n",
    "                                      caching=True,\n",
    "                                      check_extractable=True):\n",
    "            resource_manager = PDFResourceManager()\n",
    "            fake_file_handle = io.StringIO()\n",
    "            converter = TextConverter(resource_manager, fake_file_handle)\n",
    "            page_interpreter = PDFPageInterpreter(resource_manager, converter)\n",
    "            page_interpreter.process_page(page)\n",
    " \n",
    "            text = fake_file_handle.getvalue()\n",
    "            yield text\n",
    " \n",
    "            # close open handles\n",
    "            converter.close()\n",
    "            fake_file_handle.close()\n",
    " \n",
    "def extract_text(pdf_path):\n",
    "    for page in extract_text_by_page(pdf_path):\n",
    "        print(page)\n",
    "        print()\n",
    " \n",
    "if __name__ == '__main__':\n",
    "    print(extract_text('C:\\\\Users\\\\MikeLesKi\\\\Desktop\\\\Lineup.pdf'))"
   ]
  },
  {
   "cell_type": "code",
   "execution_count": 40,
   "metadata": {},
   "outputs": [
    {
     "ename": "ImportError",
     "evalue": "cannot import name 'extract_text_by_page' from 'miner_text_generator' (C:\\WINDOWS\\system32\\miner_text_generator.py)",
     "output_type": "error",
     "traceback": [
      "\u001b[1;31m---------------------------------------------------------------------------\u001b[0m",
      "\u001b[1;31mImportError\u001b[0m                               Traceback (most recent call last)",
      "\u001b[1;32m<ipython-input-40-389b7adf317c>\u001b[0m in \u001b[0;36m<module>\u001b[1;34m\u001b[0m\n\u001b[0;32m      4\u001b[0m \u001b[1;32mimport\u001b[0m \u001b[0mos\u001b[0m\u001b[1;33m\u001b[0m\u001b[1;33m\u001b[0m\u001b[0m\n\u001b[0;32m      5\u001b[0m \u001b[1;33m\u001b[0m\u001b[0m\n\u001b[1;32m----> 6\u001b[1;33m \u001b[1;32mfrom\u001b[0m \u001b[0mminer_text_generator\u001b[0m \u001b[1;32mimport\u001b[0m \u001b[0mextract_text_by_page\u001b[0m\u001b[1;33m\u001b[0m\u001b[1;33m\u001b[0m\u001b[0m\n\u001b[0m\u001b[0;32m      7\u001b[0m \u001b[1;33m\u001b[0m\u001b[0m\n\u001b[0;32m      8\u001b[0m \u001b[1;33m\u001b[0m\u001b[0m\n",
      "\u001b[1;31mImportError\u001b[0m: cannot import name 'extract_text_by_page' from 'miner_text_generator' (C:\\WINDOWS\\system32\\miner_text_generator.py)"
     ]
    }
   ],
   "source": [
    "# csv_exporter.py\n",
    " \n",
    "import csv\n",
    "import os\n",
    " \n",
    "from miner_text_generator import extract_text_by_page\n",
    " \n",
    " \n",
    "def export_as_csv(pdf_path, csv_path):\n",
    "    filename = os.path.splitext(os.path.basename(pdf_path))[0]\n",
    " \n",
    "    counter = 1\n",
    "    with open(csv_path, 'w') as csv_file:\n",
    "        writer = csv.writer(csv_file)\n",
    "        for page in extract_text_by_page(pdf_path):\n",
    "            text = page[0:100]\n",
    "            words = text.split()\n",
    "            writer.writerow(words)\n",
    " \n",
    " \n",
    "if __name__ == '__main__':\n",
    "    pdf_path = 'C:\\\\Users\\\\MikeLesKi\\\\Desktop\\\\Lineup.pdf'\n",
    "    csv_path = 'C:\\\\Users\\\\MikeLesKi\\\\Desktop\\\\Lineup.csv'\n",
    "    export_as_csv(pdf_path, csv_path)"
   ]
  },
  {
   "cell_type": "code",
   "execution_count": null,
   "metadata": {
    "collapsed": true
   },
   "outputs": [],
   "source": []
  }
 ],
 "metadata": {
  "kernelspec": {
   "display_name": "Python 3",
   "language": "python",
   "name": "python3"
  },
  "language_info": {
   "codemirror_mode": {
    "name": "ipython",
    "version": 3
   },
   "file_extension": ".py",
   "mimetype": "text/x-python",
   "name": "python",
   "nbconvert_exporter": "python",
   "pygments_lexer": "ipython3",
   "version": "3.6.1"
  }
 },
 "nbformat": 4,
 "nbformat_minor": 2
}
